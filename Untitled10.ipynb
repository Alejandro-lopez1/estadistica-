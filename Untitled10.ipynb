{
  "nbformat": 4,
  "nbformat_minor": 0,
  "metadata": {
    "colab": {
      "provenance": []
    },
    "kernelspec": {
      "name": "python3",
      "display_name": "Python 3"
    },
    "language_info": {
      "name": "python"
    }
  },
  "cells": [
    {
      "cell_type": "markdown",
      "source": [
        "#Estadística básica con un dado\n",
        "En este notebook vamos a aprender los conceptos básicos de estadística usando el ejemplo de un dado de seis caras 🎲\n",
        "Vamos a ver: media, mediana, moda, varianza, desviación estándar, coeficiente de variación y probabilidades."
      ],
      "metadata": {
        "id": "z8NTnPPpYCU1"
      }
    },
    {
      "cell_type": "markdown",
      "source": [
        "#1️⃣ Dataset: resultados de lanzar un dado\n",
        "###Definición:\n",
        "Primero necesitamos los datos, por eso vamos a simular 100 tiradas de un dado usando **Python**.\n"
      ],
      "metadata": {
        "id": "GAAuyfVzY9C_"
      }
    },
    {
      "cell_type": "code",
      "execution_count": 1,
      "metadata": {
        "colab": {
          "base_uri": "https://localhost:8080/",
          "height": 363
        },
        "collapsed": true,
        "id": "EXJQPMJjjNhL",
        "outputId": "2d7162dd-6e99-4667-afa9-58ad040652dd"
      },
      "outputs": [
        {
          "output_type": "execute_result",
          "data": {
            "text/plain": [
              "   Resultado\n",
              "0          4\n",
              "1          5\n",
              "2          3\n",
              "3          5\n",
              "4          5\n",
              "5          2\n",
              "6          3\n",
              "7          3\n",
              "8          3\n",
              "9          5"
            ],
            "text/html": [
              "\n",
              "  <div id=\"df-352b8969-29ef-48d6-a44e-1d9447e6fd20\" class=\"colab-df-container\">\n",
              "    <div>\n",
              "<style scoped>\n",
              "    .dataframe tbody tr th:only-of-type {\n",
              "        vertical-align: middle;\n",
              "    }\n",
              "\n",
              "    .dataframe tbody tr th {\n",
              "        vertical-align: top;\n",
              "    }\n",
              "\n",
              "    .dataframe thead th {\n",
              "        text-align: right;\n",
              "    }\n",
              "</style>\n",
              "<table border=\"1\" class=\"dataframe\">\n",
              "  <thead>\n",
              "    <tr style=\"text-align: right;\">\n",
              "      <th></th>\n",
              "      <th>Resultado</th>\n",
              "    </tr>\n",
              "  </thead>\n",
              "  <tbody>\n",
              "    <tr>\n",
              "      <th>0</th>\n",
              "      <td>4</td>\n",
              "    </tr>\n",
              "    <tr>\n",
              "      <th>1</th>\n",
              "      <td>5</td>\n",
              "    </tr>\n",
              "    <tr>\n",
              "      <th>2</th>\n",
              "      <td>3</td>\n",
              "    </tr>\n",
              "    <tr>\n",
              "      <th>3</th>\n",
              "      <td>5</td>\n",
              "    </tr>\n",
              "    <tr>\n",
              "      <th>4</th>\n",
              "      <td>5</td>\n",
              "    </tr>\n",
              "    <tr>\n",
              "      <th>5</th>\n",
              "      <td>2</td>\n",
              "    </tr>\n",
              "    <tr>\n",
              "      <th>6</th>\n",
              "      <td>3</td>\n",
              "    </tr>\n",
              "    <tr>\n",
              "      <th>7</th>\n",
              "      <td>3</td>\n",
              "    </tr>\n",
              "    <tr>\n",
              "      <th>8</th>\n",
              "      <td>3</td>\n",
              "    </tr>\n",
              "    <tr>\n",
              "      <th>9</th>\n",
              "      <td>5</td>\n",
              "    </tr>\n",
              "  </tbody>\n",
              "</table>\n",
              "</div>\n",
              "    <div class=\"colab-df-buttons\">\n",
              "\n",
              "  <div class=\"colab-df-container\">\n",
              "    <button class=\"colab-df-convert\" onclick=\"convertToInteractive('df-352b8969-29ef-48d6-a44e-1d9447e6fd20')\"\n",
              "            title=\"Convert this dataframe to an interactive table.\"\n",
              "            style=\"display:none;\">\n",
              "\n",
              "  <svg xmlns=\"http://www.w3.org/2000/svg\" height=\"24px\" viewBox=\"0 -960 960 960\">\n",
              "    <path d=\"M120-120v-720h720v720H120Zm60-500h600v-160H180v160Zm220 220h160v-160H400v160Zm0 220h160v-160H400v160ZM180-400h160v-160H180v160Zm440 0h160v-160H620v160ZM180-180h160v-160H180v160Zm440 0h160v-160H620v160Z\"/>\n",
              "  </svg>\n",
              "    </button>\n",
              "\n",
              "  <style>\n",
              "    .colab-df-container {\n",
              "      display:flex;\n",
              "      gap: 12px;\n",
              "    }\n",
              "\n",
              "    .colab-df-convert {\n",
              "      background-color: #E8F0FE;\n",
              "      border: none;\n",
              "      border-radius: 50%;\n",
              "      cursor: pointer;\n",
              "      display: none;\n",
              "      fill: #1967D2;\n",
              "      height: 32px;\n",
              "      padding: 0 0 0 0;\n",
              "      width: 32px;\n",
              "    }\n",
              "\n",
              "    .colab-df-convert:hover {\n",
              "      background-color: #E2EBFA;\n",
              "      box-shadow: 0px 1px 2px rgba(60, 64, 67, 0.3), 0px 1px 3px 1px rgba(60, 64, 67, 0.15);\n",
              "      fill: #174EA6;\n",
              "    }\n",
              "\n",
              "    .colab-df-buttons div {\n",
              "      margin-bottom: 4px;\n",
              "    }\n",
              "\n",
              "    [theme=dark] .colab-df-convert {\n",
              "      background-color: #3B4455;\n",
              "      fill: #D2E3FC;\n",
              "    }\n",
              "\n",
              "    [theme=dark] .colab-df-convert:hover {\n",
              "      background-color: #434B5C;\n",
              "      box-shadow: 0px 1px 3px 1px rgba(0, 0, 0, 0.15);\n",
              "      filter: drop-shadow(0px 1px 2px rgba(0, 0, 0, 0.3));\n",
              "      fill: #FFFFFF;\n",
              "    }\n",
              "  </style>\n",
              "\n",
              "    <script>\n",
              "      const buttonEl =\n",
              "        document.querySelector('#df-352b8969-29ef-48d6-a44e-1d9447e6fd20 button.colab-df-convert');\n",
              "      buttonEl.style.display =\n",
              "        google.colab.kernel.accessAllowed ? 'block' : 'none';\n",
              "\n",
              "      async function convertToInteractive(key) {\n",
              "        const element = document.querySelector('#df-352b8969-29ef-48d6-a44e-1d9447e6fd20');\n",
              "        const dataTable =\n",
              "          await google.colab.kernel.invokeFunction('convertToInteractive',\n",
              "                                                    [key], {});\n",
              "        if (!dataTable) return;\n",
              "\n",
              "        const docLinkHtml = 'Like what you see? Visit the ' +\n",
              "          '<a target=\"_blank\" href=https://colab.research.google.com/notebooks/data_table.ipynb>data table notebook</a>'\n",
              "          + ' to learn more about interactive tables.';\n",
              "        element.innerHTML = '';\n",
              "        dataTable['output_type'] = 'display_data';\n",
              "        await google.colab.output.renderOutput(dataTable, element);\n",
              "        const docLink = document.createElement('div');\n",
              "        docLink.innerHTML = docLinkHtml;\n",
              "        element.appendChild(docLink);\n",
              "      }\n",
              "    </script>\n",
              "  </div>\n",
              "\n",
              "\n",
              "    <div id=\"df-1cc95956-4e8d-49e4-8e06-15be15e97da9\">\n",
              "      <button class=\"colab-df-quickchart\" onclick=\"quickchart('df-1cc95956-4e8d-49e4-8e06-15be15e97da9')\"\n",
              "                title=\"Suggest charts\"\n",
              "                style=\"display:none;\">\n",
              "\n",
              "<svg xmlns=\"http://www.w3.org/2000/svg\" height=\"24px\"viewBox=\"0 0 24 24\"\n",
              "     width=\"24px\">\n",
              "    <g>\n",
              "        <path d=\"M19 3H5c-1.1 0-2 .9-2 2v14c0 1.1.9 2 2 2h14c1.1 0 2-.9 2-2V5c0-1.1-.9-2-2-2zM9 17H7v-7h2v7zm4 0h-2V7h2v10zm4 0h-2v-4h2v4z\"/>\n",
              "    </g>\n",
              "</svg>\n",
              "      </button>\n",
              "\n",
              "<style>\n",
              "  .colab-df-quickchart {\n",
              "      --bg-color: #E8F0FE;\n",
              "      --fill-color: #1967D2;\n",
              "      --hover-bg-color: #E2EBFA;\n",
              "      --hover-fill-color: #174EA6;\n",
              "      --disabled-fill-color: #AAA;\n",
              "      --disabled-bg-color: #DDD;\n",
              "  }\n",
              "\n",
              "  [theme=dark] .colab-df-quickchart {\n",
              "      --bg-color: #3B4455;\n",
              "      --fill-color: #D2E3FC;\n",
              "      --hover-bg-color: #434B5C;\n",
              "      --hover-fill-color: #FFFFFF;\n",
              "      --disabled-bg-color: #3B4455;\n",
              "      --disabled-fill-color: #666;\n",
              "  }\n",
              "\n",
              "  .colab-df-quickchart {\n",
              "    background-color: var(--bg-color);\n",
              "    border: none;\n",
              "    border-radius: 50%;\n",
              "    cursor: pointer;\n",
              "    display: none;\n",
              "    fill: var(--fill-color);\n",
              "    height: 32px;\n",
              "    padding: 0;\n",
              "    width: 32px;\n",
              "  }\n",
              "\n",
              "  .colab-df-quickchart:hover {\n",
              "    background-color: var(--hover-bg-color);\n",
              "    box-shadow: 0 1px 2px rgba(60, 64, 67, 0.3), 0 1px 3px 1px rgba(60, 64, 67, 0.15);\n",
              "    fill: var(--button-hover-fill-color);\n",
              "  }\n",
              "\n",
              "  .colab-df-quickchart-complete:disabled,\n",
              "  .colab-df-quickchart-complete:disabled:hover {\n",
              "    background-color: var(--disabled-bg-color);\n",
              "    fill: var(--disabled-fill-color);\n",
              "    box-shadow: none;\n",
              "  }\n",
              "\n",
              "  .colab-df-spinner {\n",
              "    border: 2px solid var(--fill-color);\n",
              "    border-color: transparent;\n",
              "    border-bottom-color: var(--fill-color);\n",
              "    animation:\n",
              "      spin 1s steps(1) infinite;\n",
              "  }\n",
              "\n",
              "  @keyframes spin {\n",
              "    0% {\n",
              "      border-color: transparent;\n",
              "      border-bottom-color: var(--fill-color);\n",
              "      border-left-color: var(--fill-color);\n",
              "    }\n",
              "    20% {\n",
              "      border-color: transparent;\n",
              "      border-left-color: var(--fill-color);\n",
              "      border-top-color: var(--fill-color);\n",
              "    }\n",
              "    30% {\n",
              "      border-color: transparent;\n",
              "      border-left-color: var(--fill-color);\n",
              "      border-top-color: var(--fill-color);\n",
              "      border-right-color: var(--fill-color);\n",
              "    }\n",
              "    40% {\n",
              "      border-color: transparent;\n",
              "      border-right-color: var(--fill-color);\n",
              "      border-top-color: var(--fill-color);\n",
              "    }\n",
              "    60% {\n",
              "      border-color: transparent;\n",
              "      border-right-color: var(--fill-color);\n",
              "    }\n",
              "    80% {\n",
              "      border-color: transparent;\n",
              "      border-right-color: var(--fill-color);\n",
              "      border-bottom-color: var(--fill-color);\n",
              "    }\n",
              "    90% {\n",
              "      border-color: transparent;\n",
              "      border-bottom-color: var(--fill-color);\n",
              "    }\n",
              "  }\n",
              "</style>\n",
              "\n",
              "      <script>\n",
              "        async function quickchart(key) {\n",
              "          const quickchartButtonEl =\n",
              "            document.querySelector('#' + key + ' button');\n",
              "          quickchartButtonEl.disabled = true;  // To prevent multiple clicks.\n",
              "          quickchartButtonEl.classList.add('colab-df-spinner');\n",
              "          try {\n",
              "            const charts = await google.colab.kernel.invokeFunction(\n",
              "                'suggestCharts', [key], {});\n",
              "          } catch (error) {\n",
              "            console.error('Error during call to suggestCharts:', error);\n",
              "          }\n",
              "          quickchartButtonEl.classList.remove('colab-df-spinner');\n",
              "          quickchartButtonEl.classList.add('colab-df-quickchart-complete');\n",
              "        }\n",
              "        (() => {\n",
              "          let quickchartButtonEl =\n",
              "            document.querySelector('#df-1cc95956-4e8d-49e4-8e06-15be15e97da9 button');\n",
              "          quickchartButtonEl.style.display =\n",
              "            google.colab.kernel.accessAllowed ? 'block' : 'none';\n",
              "        })();\n",
              "      </script>\n",
              "    </div>\n",
              "\n",
              "    </div>\n",
              "  </div>\n"
            ],
            "application/vnd.google.colaboratory.intrinsic+json": {
              "type": "dataframe",
              "variable_name": "df",
              "summary": "{\n  \"name\": \"df\",\n  \"rows\": 100,\n  \"fields\": [\n    {\n      \"column\": \"Resultado\",\n      \"properties\": {\n        \"dtype\": \"number\",\n        \"std\": 1,\n        \"min\": 1,\n        \"max\": 6,\n        \"num_unique_values\": 6,\n        \"samples\": [\n          4,\n          5,\n          1\n        ],\n        \"semantic_type\": \"\",\n        \"description\": \"\"\n      }\n    }\n  ]\n}"
            }
          },
          "metadata": {},
          "execution_count": 1
        }
      ],
      "source": [
        "import numpy as np\n",
        "import pandas as pd\n",
        "import matplotlib.pyplot as plt\n",
        "import seaborn as sns\n",
        "sns.set(style='whitegrid')\n",
        "\n",
        "#simulamos 100 lanzamientos d eun dado\n",
        "np.random.seed(42)\n",
        "lanzamientos = np.random.randint(1, 7, size=100)\n",
        "df = pd.DataFrame(lanzamientos, columns=['Resultado'])\n",
        "df.head(10)"
      ]
    },
    {
      "cell_type": "markdown",
      "source": [
        "###Explicación:\n",
        "En este código generamos un dataset simulado con 100 lanzamientos de un dado de 6 caras.\n",
        "Vimos cómo crear un DataFrame de Pandas para almacenar los resultados, lo que nos permitirá aplicar todos los cálculos y visualizaciones de forma ordenada."
      ],
      "metadata": {
        "id": "SKM_ZAYeimpO"
      }
    },
    {
      "cell_type": "markdown",
      "source": [
        "#2️⃣ Media\n",
        "###Definición:\n",
        "La **Media** es el promedio de los datos. Se calcula sumando todos los valores y dividiéndolos por la cantidad de datos.\n",
        "Es sensible a valores externos."
      ],
      "metadata": {
        "id": "B46tcMKHaQdT"
      }
    },
    {
      "cell_type": "code",
      "source": [
        "media = df['Resultado'].mean()\n",
        "print(f'Media: {media:.2f}')"
      ],
      "metadata": {
        "colab": {
          "base_uri": "https://localhost:8080/"
        },
        "id": "lng1UdYRamgV",
        "outputId": "2b2ac1a2-57cf-480c-c7ad-70529449418f"
      },
      "execution_count": 2,
      "outputs": [
        {
          "output_type": "stream",
          "name": "stdout",
          "text": [
            "Media: 3.69\n"
          ]
        }
      ]
    },
    {
      "cell_type": "markdown",
      "source": [
        "###Explicación:\n",
        "En este código calculamos la media de los resultados del dado, que nos dice el valor promedio obtenido. Aprendimos que la media es sensible a valores externos y representa un \"centro\" de los datos."
      ],
      "metadata": {
        "id": "fFu1smTvjDkk"
      }
    },
    {
      "cell_type": "markdown",
      "source": [
        "#3️⃣ Mediana\n",
        "###Definición:\n",
        "La **Mediana** es el valor que se encuentra en el centro de los datos ordenados. Si existe un número par de valores, se toma el promedio de los dos centrales.\n",
        "Es útil cuando hay valores extremos o sesgados."
      ],
      "metadata": {
        "id": "FA6n-CSbb8ZV"
      }
    },
    {
      "cell_type": "code",
      "source": [
        "mediana = df['Resultado'].median()\n",
        "print(f'Mediana: {mediana}')"
      ],
      "metadata": {
        "colab": {
          "base_uri": "https://localhost:8080/"
        },
        "id": "lSTZuLnrcYbW",
        "outputId": "2d870380-f466-479f-d2fc-edf74d1de8d8"
      },
      "execution_count": 3,
      "outputs": [
        {
          "output_type": "stream",
          "name": "stdout",
          "text": [
            "Mediana: 4.0\n"
          ]
        }
      ]
    },
    {
      "cell_type": "markdown",
      "source": [
        "###Explicación:\n",
        "Acá calculamos la mediana, que representa el valor central de los datos ordenados. Vimos que la mediana es más robusta frente a valores extremos que la media."
      ],
      "metadata": {
        "id": "ZDfws7YRjZPp"
      }
    },
    {
      "cell_type": "markdown",
      "source": [
        "#4️⃣ Moda\n",
        "###Definición:\n",
        "La **Moda** es el valor que más se repite en los datos.\n",
        "Es útil para datos categóricos o para ver cuál es el resultado más frecuente."
      ],
      "metadata": {
        "id": "LEkSjCblcl2U"
      }
    },
    {
      "cell_type": "code",
      "source": [
        "moda = df['Resultado'].mode()[0]\n",
        "print(f'Moda: {moda}')"
      ],
      "metadata": {
        "colab": {
          "base_uri": "https://localhost:8080/"
        },
        "id": "b_p5AT3Pc8k5",
        "outputId": "7b66e33e-b884-4e76-e9ca-fbeaea132aa9"
      },
      "execution_count": 4,
      "outputs": [
        {
          "output_type": "stream",
          "name": "stdout",
          "text": [
            "Moda: 4\n"
          ]
        }
      ]
    },
    {
      "cell_type": "markdown",
      "source": [
        "###Explicación:\n",
        "Calculamos la moda, que es el valor que más se repite en nuestros lanzamientos. Esto nos ayuda a identificar el resultado más frecuente, especialmente útil para datos categóricos."
      ],
      "metadata": {
        "id": "Ypzjv9AUjjE2"
      }
    },
    {
      "cell_type": "markdown",
      "source": [
        "#5️⃣ Rango\n",
        "###Definición:\n",
        "El **Rango** es la diferencia entre el valor máximo y el mínimo.\n",
        "Nos da una idea rápida de la dispersión de los datos, pero es sensible a outliers."
      ],
      "metadata": {
        "id": "3e717p88dLei"
      }
    },
    {
      "cell_type": "code",
      "source": [
        "rango = df['Resultado'].max() - df['Resultado'].min()\n",
        "print(f'Rango: {rango}')"
      ],
      "metadata": {
        "colab": {
          "base_uri": "https://localhost:8080/"
        },
        "id": "DLY5jU-Hdf9s",
        "outputId": "47eaf51f-2cb7-4f61-97f0-55de1e42b4eb"
      },
      "execution_count": 6,
      "outputs": [
        {
          "output_type": "stream",
          "name": "stdout",
          "text": [
            "Rango: 5\n"
          ]
        }
      ]
    },
    {
      "cell_type": "markdown",
      "source": [
        "###Explicación:\n",
        "El rango nos da la diferencia entre el valor máximo y mínimo, proporcionando una medida rápida de dispersión. Vimos que es simple pero sensible a valores extremos."
      ],
      "metadata": {
        "id": "EgZ8vrmzjrlb"
      }
    },
    {
      "cell_type": "markdown",
      "source": [
        "#6️⃣ Varianza\n",
        "###Definición:\n",
        "La **Varianza** mide qué tan dispersos están los datos respecto a la **Media**.\n",
        "Se calcula promediando los cuadrados de las diferencias entre cada dato y la media."
      ],
      "metadata": {
        "id": "6hX6uARZdpg7"
      }
    },
    {
      "cell_type": "code",
      "source": [
        "varianza = df['Resultado'].var()\n",
        "print(f'Varianza: {varianza:.2f}')"
      ],
      "metadata": {
        "colab": {
          "base_uri": "https://localhost:8080/"
        },
        "id": "Q9I7E5AweCCY",
        "outputId": "03f9ee75-ce37-4a18-bb99-28a460b9ad49"
      },
      "execution_count": 7,
      "outputs": [
        {
          "output_type": "stream",
          "name": "stdout",
          "text": [
            "Varianza: 2.64\n"
          ]
        }
      ]
    },
    {
      "cell_type": "markdown",
      "source": [
        "###Explicación:\n",
        "Calculamos la varianza para medir qué tan dispersos están los resultados alrededor de la media. Nos mostró cómo cada valor contribuye a la dispersión total de los datos."
      ],
      "metadata": {
        "id": "eWDLSQoCjzcO"
      }
    },
    {
      "cell_type": "markdown",
      "source": [
        "#7️⃣ Desviación estándar\n",
        "###Definición:\n",
        "La **Desviación Estándar** es la raíz cuadrada de la **Varianza**.\n",
        "Mide dispersión en las mismas unidades que los datos."
      ],
      "metadata": {
        "id": "0IdwaKM9eQd9"
      }
    },
    {
      "cell_type": "code",
      "source": [
        "desviacion = df['Resultado'].std()\n",
        "print(f'Desviación Estándar: {desviacion:.2f}')"
      ],
      "metadata": {
        "colab": {
          "base_uri": "https://localhost:8080/"
        },
        "id": "olVE895yeoXy",
        "outputId": "934664a1-6b35-4555-8cdb-9bde8cc2a233"
      },
      "execution_count": 8,
      "outputs": [
        {
          "output_type": "stream",
          "name": "stdout",
          "text": [
            "Desviación Estándar: 1.62\n"
          ]
        }
      ]
    },
    {
      "cell_type": "markdown",
      "source": [
        "###Explicación:\n",
        "La desviación estándar nos dio la dispersión de los datos en las mismas unidades que los resultados. Es más intuitiva que la varianza para interpretar la variabilidad."
      ],
      "metadata": {
        "id": "MoRDeqgij9tS"
      }
    },
    {
      "cell_type": "markdown",
      "source": [
        "#8️⃣ Coeficiente de variación\n",
        "###Definición:\n",
        "El **coeficiente de variación** compara la dispersión relativa de los datos.\n",
        "Se calcula como desviación estándar dividida por la media, expresada en porcentaje."
      ],
      "metadata": {
        "id": "58-4P-0bfbu9"
      }
    },
    {
      "cell_type": "code",
      "source": [
        "cv = (desviacion / media) * 100\n",
        "print(f'Coeficiente de Variación: {cv:.2f}%')"
      ],
      "metadata": {
        "colab": {
          "base_uri": "https://localhost:8080/"
        },
        "id": "EkXWmwCmf1cN",
        "outputId": "3ce94de3-64de-45ee-a15b-138fe6c3bca2"
      },
      "execution_count": 9,
      "outputs": [
        {
          "output_type": "stream",
          "name": "stdout",
          "text": [
            "Coeficiente de Variación: 44.04%\n"
          ]
        }
      ]
    },
    {
      "cell_type": "markdown",
      "source": [
        "###Explicación:\n",
        "Con el coeficiente de variación vimos cómo comparar la dispersión relativa de los datos respecto a la media, expresada en porcentaje. Esto permite comparar variabilidad entre diferentes datasets."
      ],
      "metadata": {
        "id": "gnKwwbLTkGJn"
      }
    },
    {
      "cell_type": "markdown",
      "source": [
        "#9️⃣ Probabilidades\n",
        "###Definición:\n",
        "La **Probabilidad** de un evento es la proporción de veces en que ocurre un evento sobre el total de los casos.\n",
        "Ejemplo: probabilidad de sacar un 3 o un número mayor a 4 en una de las tiradas del dado."
      ],
      "metadata": {
        "id": "EiXsaodUgEqF"
      }
    },
    {
      "cell_type": "code",
      "source": [
        "prob_3 = (df['Resultado'] == 3).mean()\n",
        "prob_mayor4 = (df['Resultado'] > 4).mean()\n",
        "\n",
        "print(f'Probabilidad de sacar un 3: {prob_3:.2f}')\n",
        "print(f'Probabilidad de sacar un número mayor a 4: {prob_mayor4:.2f}')"
      ],
      "metadata": {
        "colab": {
          "base_uri": "https://localhost:8080/"
        },
        "id": "Pvtjaa58gi-C",
        "outputId": "5283b877-7d3e-47a5-a1ab-587e725e1a19"
      },
      "execution_count": 10,
      "outputs": [
        {
          "output_type": "stream",
          "name": "stdout",
          "text": [
            "Probabilidad de sacar un 3: 0.11\n",
            "Probabilidad de sacar un número mayor a 4: 0.34\n"
          ]
        }
      ]
    },
    {
      "cell_type": "markdown",
      "source": [
        "###Explicación:\n",
        "Calculamos probabilidades simples, como sacar un 3 o un número mayor a 4. Vimos cómo usar proporciones para estimar la probabilidad de eventos, que es fundamental en estadísticas y machine learning probabilístico."
      ],
      "metadata": {
        "id": "mexdDbHgkP05"
      }
    },
    {
      "cell_type": "markdown",
      "source": [
        "#1️⃣0️⃣ Visualizaciones\n",
        "###Definición:\n",
        "Las visualizaciones nos permiten entender la distribución de los dados y su dispersión.\n",
        "\n",
        "-**Histograma**: frecuencia de cada resultado.\n",
        "\n",
        "-**Boxplot**: resumen visual de mediana, cuartiles y posibles outliers."
      ],
      "metadata": {
        "id": "SeUw2Tv7hNnY"
      }
    },
    {
      "cell_type": "code",
      "source": [
        "#Histograma\n",
        "plt.figure(figsize=(8,5))\n",
        "sns.histplot(df['Resultado'], bins=6, discrete=True, kde=False)\n",
        "plt.title(\"Distribución de resultados de 100 lanzamientos de un dado\")\n",
        "plt.xlabel(\"Resultado\")\n",
        "plt.ylabel(\"Frecuencia\")\n",
        "plt.show()\n",
        "\n",
        "# Boxplot\n",
        "plt.figure(figsize=(5,5))\n",
        "sns.boxplot(y=df['Resultado'])\n",
        "plt.title(\"Boxplot de resultados del dado\")\n",
        "plt.show()"
      ],
      "metadata": {
        "colab": {
          "base_uri": "https://localhost:8080/",
          "height": 923
        },
        "collapsed": true,
        "id": "eFQnw81Yh1CH",
        "outputId": "871d7e46-7e68-442c-e18b-7e3c5b0fbbc1"
      },
      "execution_count": 11,
      "outputs": [
        {
          "output_type": "display_data",
          "data": {
            "text/plain": [
              "<Figure size 800x500 with 1 Axes>"
            ],
            "image/png": "[encoded data removed]"
          },
          "metadata": {}
        },
        {
          "output_type": "display_data",
          "data": {
            "text/plain": [
              "<Figure size 500x500 with 1 Axes>"
            ],
            "image/png": "[encoded data removed]"
          },
          "metadata": {}
        }
      ]
    },
    {
      "cell_type": "markdown",
      "source": [
        "###Explicación:\n",
        "Con los gráficos (histograma y boxplot) interpretamos visualmente la distribución y dispersión de los resultados. Aprendimos que las visualizaciones ayudan a detectar patrones, simetrías, outliers y comportamiento general de los datos."
      ],
      "metadata": {
        "id": "bPmbqcC1kfbR"
      }
    },
    {
      "cell_type": "markdown",
      "source": [
        "#📖 Glosario de términos estadísticos y de análisis de datos\n",
        "\n",
        "##Outlier (valor atípico)\n",
        "Un valor que se aleja mucho del resto de los datos.\n",
        "Ejemplo: en un grupo de edades [20, 21, 22, 80], el **80** es un Outlier.\n",
        "*   Problema: distorsiona la media y el rango.\n",
        "*   Solución: usar mediana o técnicas de detección de Outliers (IQR, Z-score).\n",
        "\n",
        "##Cuartiles:\n",
        "Dividen los datos ordenados en 4 partes iguales:\n",
        "*   Q1 (primer cuartil): 25% de los datos son menores o iguales.\n",
        "*   Q2 (segundo cuartil / mediana): 50% de los datos son menores o iguales.\n",
        "*   Q3 (tercer cuartil): 75% de los datos son menores o iguales.\n",
        "\n",
        "    *Se usan en Boxplots y para detectar Outliers*\n",
        "\n",
        "##Dispersión absoluta:\n",
        "Medidas que muestran qué tan separados están los datos, usando las mismas unidades de los datos.\n",
        "Ejemplos: rango, varianza, desviación estándar.\n",
        "\n",
        "##Dispersión relativa:\n",
        "Muestra la variabilidad en proporción a la media.\n",
        "Ejemplo: coeficiente de variación (CV).\n",
        "Sirve para comparar datasets con distintas escalas (ej: alturas en cm vs pesos en kg).\n",
        "\n",
        "##Datos categóricos:\n",
        "Datos que representan categorías o etiquetas, no números.\n",
        "*   **nominales**: no tienen orden (ej: color de ojos, azul, verde, marrón).\n",
        "*   **Ordinales**: tienen un orden natural (ej: tamaño de ropa -> S, M, L, XL...).\n",
        "\n",
        "##DataFrame:\n",
        "Estructura de datos de Pandas en forma de tabla (como una planilla Excel).\n",
        "*   Filas = observaciones (ej: cada lanzamiento del dado).\n",
        "*   Columnas = variables (ej: resultado, fecha, probabilidad).\n",
        "\n",
        "Es el formato más utilizado en análisis de datos con Python.\n",
        "\n",
        "##Media:\n",
        "Promedio de los valores. Sensible a Outliers.\n",
        "\n",
        "##Mediana:\n",
        "Valor central de los datos ordenados. Robusta frente a Outliers.\n",
        "\n",
        "##Moda:\n",
        "Valor más frecuente en los datos.\n",
        "\n",
        "##Varianza:\n",
        "Medida de dispersión que calcula el promedio de las desviaciones al cuadrado respecto a la media.\n",
        "\n",
        "##Desviación estándar:\n",
        "Raíz cuadrada d ela varianza. Expresada en las mismas unidades que los datos.\n",
        "\n",
        "##Coeficiente de variación (CV):\n",
        "MEdida de dispersión relativa (desviación estándar / media). Se expersa en %.\n",
        "\n",
        "##Probabilidad:\n",
        "Medida d ela posibilidad de que ocurra un evento, expresada entre 0 y 1 (o 0% y 100%).\n",
        "\n",
        "##Boxplot (diagrama de caja):\n",
        "Gráfico que resume los datos mostrando:\n",
        "*   Mediana\n",
        "*   Cuartiles (Q1 y Q3)\n",
        "*   Rango intercuartílico (IQR = Q3-Q1)\n",
        "*   Posibles Outliers\n",
        "\n",
        "\n",
        "\n",
        "\n",
        "\n",
        "\n",
        "\n",
        "\n",
        "\n",
        "\n",
        "\n",
        "\n",
        "\n"
      ],
      "metadata": {
        "id": "K5Kq2mnel3vQ"
      }
    }
  ]
}